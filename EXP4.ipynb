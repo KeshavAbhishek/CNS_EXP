{
 "cells": [
  {
   "cell_type": "markdown",
   "metadata": {},
   "source": [
    "# Private and Public Key"
   ]
  },
  {
   "cell_type": "code",
   "execution_count": 5,
   "metadata": {},
   "outputs": [
    {
     "name": "stdout",
     "output_type": "stream",
     "text": [
      "(3120, 3233)\n",
      "d=  891.5714285714286\n",
      "Public key: (7, 3233)\n",
      "Private key: (891.5714285714286, 3233)\n",
      "Original Message is : 11\n",
      "Encrypted message : 1880.0\n"
     ]
    },
    {
     "ename": "OverflowError",
     "evalue": "(34, 'Result too large')",
     "output_type": "error",
     "traceback": [
      "\u001b[1;31m---------------------------------------------------------------------------\u001b[0m",
      "\u001b[1;31mOverflowError\u001b[0m                             Traceback (most recent call last)",
      "Cell \u001b[1;32mIn[5], line 25\u001b[0m\n\u001b[0;32m     23\u001b[0m c\u001b[38;5;241m=\u001b[39mmath\u001b[38;5;241m.\u001b[39mfmod(c,n)\n\u001b[0;32m     24\u001b[0m \u001b[38;5;28mprint\u001b[39m(\u001b[38;5;124mf\u001b[39m\u001b[38;5;124m\"\u001b[39m\u001b[38;5;124mEncrypted message : \u001b[39m\u001b[38;5;132;01m{\u001b[39;00mc\u001b[38;5;132;01m}\u001b[39;00m\u001b[38;5;124m\"\u001b[39m)\n\u001b[1;32m---> 25\u001b[0m M\u001b[38;5;241m=\u001b[39m\u001b[38;5;28;43mpow\u001b[39;49m\u001b[43m(\u001b[49m\u001b[43mc\u001b[49m\u001b[43m,\u001b[49m\u001b[43md\u001b[49m\u001b[43m)\u001b[49m\n\u001b[0;32m     26\u001b[0m M\u001b[38;5;241m=\u001b[39mmath\u001b[38;5;241m.\u001b[39mfmod(M,n)\n\u001b[0;32m     27\u001b[0m \u001b[38;5;28mprint\u001b[39m(\u001b[38;5;124mf\u001b[39m\u001b[38;5;124m\"\u001b[39m\u001b[38;5;124mDecrypted message : \u001b[39m\u001b[38;5;132;01m{\u001b[39;00mM\u001b[38;5;132;01m}\u001b[39;00m\u001b[38;5;124m\"\u001b[39m)\n",
      "\u001b[1;31mOverflowError\u001b[0m: (34, 'Result too large')"
     ]
    }
   ],
   "source": [
    "# RSA\n",
    "import math\n",
    "p=3\n",
    "q=7\n",
    "n=p*q\n",
    "print(\"n = \",n)\n",
    "phi=(p-1)*(q-1)\n",
    "e=2\n",
    "while(e<phi):\n",
    "    if(math.gcd(e,phi)==1):\n",
    "        break\n",
    "    else:\n",
    "        e+=1\n",
    "print(\"e= \",e)\n",
    "\n",
    "k=2\n",
    "d=((k*phi)+1)/e\n",
    "print(\"d= \",d)\n",
    "print(f\"Public key: {e,n}\")\n",
    "print(f\"Private key: {d,n}\")\n",
    "msg=11\n",
    "print(f\"Original Message is : {msg}\")\n",
    "c=pow(msg,e)\n",
    "c=math.fmod(c,n)\n",
    "print(f\"Encrypted message : {c}\")\n",
    "M=pow(c,d)\n",
    "M=math.fmod(M,n)\n",
    "print(f\"Decrypted message : {M}\")"
   ]
  },
  {
   "cell_type": "markdown",
   "metadata": {},
   "source": [
    "# Encryption\n",
    "* Choose random int k such that 1 <= k <= p-2\n",
    "* Compute C1 = gk mod p\n",
    "* Compute C2 = M.h**k mod p\n",
    "* The Ciphertext is (C1, C2)"
   ]
  },
  {
   "cell_type": "code",
   "execution_count": 2,
   "metadata": {},
   "outputs": [
    {
     "name": "stdout",
     "output_type": "stream",
     "text": [
      "Cipher Text 10, 8\n"
     ]
    }
   ],
   "source": [
    "# Given values\n",
    "M = 8\n",
    "p = 11\n",
    "g = 2\n",
    "x = 4  # Private key\n",
    "\n",
    "# Public Key\n",
    "h = (g ** x) % p\n",
    "\n",
    "# Encryption\n",
    "k = 5  # Randomly chosen\n",
    "c1 = (g ** k) % p\n",
    "c2 = (M * (h ** k)) % p\n",
    "\n",
    "print(\"Cipher Text {}, {}\".format(c1, c2))"
   ]
  },
  {
   "cell_type": "markdown",
   "metadata": {},
   "source": [
    "# Decryption\n",
    "* To decrypt the ciphertext (c1,c2) using the private key x:\n",
    "* Compute the original message M = C2⋅s−1 mod  p."
   ]
  },
  {
   "cell_type": "code",
   "execution_count": 3,
   "metadata": {},
   "outputs": [
    {
     "name": "stdout",
     "output_type": "stream",
     "text": [
      "Decrypted Message: 8\n"
     ]
    }
   ],
   "source": [
    "# Decryption\n",
    "s = (c1 ** x) % p\n",
    "M_decrypted = (c2 * pow(s, p - 2, p)) % p\n",
    "\n",
    "print(\"Decrypted Message:\", M_decrypted)"
   ]
  },
  {
   "cell_type": "code",
   "execution_count": 9,
   "metadata": {},
   "outputs": [
    {
     "name": "stdout",
     "output_type": "stream",
     "text": [
      "101 2 37 55 11 66 4\n"
     ]
    }
   ],
   "source": [
    "def mod_exp(base, exp, mod):\n",
    "    result = 1\n",
    "    while exp > 0:\n",
    "        if exp % 2 == 1:\n",
    "            result = (result * base) % mod\n",
    "        base = (base * base) % mod\n",
    "        exp //= 2\n",
    "    return result\n",
    "\n",
    "def mod_inverse(a, p):\n",
    "    return mod_exp(a, p - 2, p)\n",
    "\n",
    "def gcd(a, b):\n",
    "    while b != 0:\n",
    "        a, b = b, a % b\n",
    "    return a\n",
    "\n",
    "def find_primitive_root(p):\n",
    "    # Naive approach to find the smallest primitive root\n",
    "    required_set = {num for num in range(1, p) if gcd(num, p) == 1}\n",
    "    for g in range(1, p):\n",
    "        actual_set = {mod_exp(g, powers, p) for powers in range(1, p)}\n",
    "        if required_set == actual_set:\n",
    "            return g\n",
    "    return None\n",
    "\n",
    "# Given values\n",
    "p = 101\n",
    "M = 4\n",
    "\n",
    "e1 = find_primitive_root(p)\n",
    "d = 37\n",
    "\n",
    "e2 = mod_exp(e1, d, p)\n",
    "\n",
    "r = 13\n",
    "C1 = mod_exp(e1, r, p)\n",
    "C2 = (M * mod_exp(e2, r, p)) % p\n",
    "\n",
    "C1_d = mod_exp(C1, d, p)\n",
    "M_decrypted = (C2 * mod_inverse(C1_d, p)) % p\n",
    "\n",
    "print(p, e1, d, e2, C1, C2, M_decrypted)\n"
   ]
  }
 ],
 "metadata": {
  "kernelspec": {
   "display_name": "cnsvirt",
   "language": "python",
   "name": "python3"
  },
  "language_info": {
   "codemirror_mode": {
    "name": "ipython",
    "version": 3
   },
   "file_extension": ".py",
   "mimetype": "text/x-python",
   "name": "python",
   "nbconvert_exporter": "python",
   "pygments_lexer": "ipython3",
   "version": "3.12.4"
  }
 },
 "nbformat": 4,
 "nbformat_minor": 2
}
