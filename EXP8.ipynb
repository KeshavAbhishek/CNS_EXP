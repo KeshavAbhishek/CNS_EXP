{
 "cells": [
  {
   "cell_type": "markdown",
   "metadata": {},
   "source": [
    "# Q1. Encrypt and Decrypt Emails Using PGP."
   ]
  },
  {
   "cell_type": "code",
   "execution_count": 3,
   "metadata": {},
   "outputs": [
    {
     "name": "stdout",
     "output_type": "stream",
     "text": [
      "Encrypted Email (AES): b'x\\x90{G\\x1c\\xc2\\xf4I\\x06;\\x06\\xb8kf8\\x8d\\xae\\x04\\xca\\xdb\\xd1\\x80\\xe1\\x8e\\xe7BY\\xbf\\xc5|\\xa5\\xd1'\n",
      "\n",
      "Encrypted AES Key (RSA): b'+\\xfc\\xb9\\x1a\\x07z\\xe5.\\xc2,\\x0b\\x13v\\xfa}\\x02\\x06\\x12\\x87\\x94\\xc6\\x0e}\\xd4\\t_X\\xdf\\xef\\x90\\xcc\\'JyY.\\x93\\xd9\\x9b\\x8d\\xecv\\xd2\\x04\\xc8\\x11\\x1d-\\xbbM\\'\\xfb\\xd0P\\xaa\\xf6\\x94\\x82#\\xcb2\\xa5\\xb5\\xcawM\\xce\\x8e\\xbf\\xa3\\x7f\\xcd\\xfa \\x0f\\x98\\xdc\\x86\\xd0\\x14\\xcf~a:\\xe9\\x18\\x00\\x8b\\xbb\\r\\xf4g\"\\x10 \\xf7\\xc6\\xabu#\\x1c\\x1b_1I\\xd3\\xf3\\xfd.\\xd9h\\xb71\\xc7\\xf2\\xdb\\xaf\\xa9\\xd7\\x92\\x05\\x9b\\xf9\\x8e\\xe4\\xb18\\x9f\\xfd\\x13\\xeb\\xe3c\\xf2\\x8c\\x8a\\x83\\xa8\\x1d\\xb1vke\\xa2h\\xeeI\\xa6\\xe9\\x95\\xbb}\\xd2\\xf9\\x15\\x18\\xfcN\\x9eZ\\xa3\\x8b;\\x16\\xd7AT|\\x97\\xad1Jh\\xf6Q\\x10\\xcd\\x96m6\\xe9\\x93\\xafD\\xd9\\xda\\x11\\xbea\\xd5\\xc0\\xabq\\xbf\\xe5\\x8d\\x94\\xf2\\x12m(\\xb2\\xf8\\xb5\\xe1\\x9f\\xea\\xef\\xb2\\x98\\x7f\\x8b\\x9e\\xa0\\\\\\xe9\\xe0\\xc5A\\xdd4-\\x0cL\\xec\\xda\\xe9\\x9eXF\\xef\\x8e\\x08\\xc2\\x8d7D\\xda\\xab\\xaf\\xad\\xb9-\\xc8\\r\\t\\xdfw\\xe7\\xb6\\xe9f\\xf0\\x9f\\xbfr'\n",
      "\n",
      "Decrypted Email: Hello, this is a secure email.\n"
     ]
    }
   ],
   "source": [
    "import random\n",
    "import string\n",
    "from cryptography.hazmat.primitives.asymmetric import rsa, padding\n",
    "from cryptography.hazmat.primitives import serialization, hashes\n",
    "from cryptography.hazmat.primitives.ciphers import Cipher, algorithms, modes\n",
    "from cryptography.hazmat.backends import default_backend\n",
    "from cryptography.hazmat.primitives import padding as sym_padding\n",
    "\n",
    "# Generate RSA key pair (public and private keys)\n",
    "def generate_key_pair():\n",
    "    private_key = rsa.generate_private_key(\n",
    "        public_exponent=65537,\n",
    "        key_size=2048\n",
    "    )\n",
    "    public_key = private_key.public_key()\n",
    "\n",
    "    # Serialize and return the keys\n",
    "    private_pem = private_key.private_bytes(\n",
    "        encoding=serialization.Encoding.PEM,\n",
    "        format=serialization.PrivateFormat.PKCS8,\n",
    "        encryption_algorithm=serialization.NoEncryption()\n",
    "    )\n",
    "    \n",
    "    public_pem = public_key.public_bytes(\n",
    "        encoding=serialization.Encoding.PEM,\n",
    "        format=serialization.PublicFormat.SubjectPublicKeyInfo\n",
    "    )\n",
    "    \n",
    "    return private_pem, public_pem\n",
    "\n",
    "# Function to generate a random AES key (symmetric key)\n",
    "def generate_aes_key(length=32):\n",
    "    return ''.join(random.choice(string.ascii_letters + string.digits) for _ in range(length)).encode('utf-8')\n",
    "\n",
    "# Encrypt the message using the AES key\n",
    "def encrypt_email_aes(aes_key, message):\n",
    "    # Pad message for AES block size\n",
    "    padder = sym_padding.PKCS7(algorithms.AES.block_size).padder()\n",
    "    padded_data = padder.update(message.encode()) + padder.finalize()\n",
    "\n",
    "    # Encrypt the padded message using AES\n",
    "    iv = random.randbytes(16)  # Generate a random initialization vector (IV)\n",
    "    cipher = Cipher(algorithms.AES(aes_key), modes.CBC(iv), backend=default_backend())\n",
    "    encryptor = cipher.encryptor()\n",
    "    encrypted_message = encryptor.update(padded_data) + encryptor.finalize()\n",
    "\n",
    "    return encrypted_message, iv\n",
    "\n",
    "# Encrypt the AES key using the public key (RSA)\n",
    "def encrypt_aes_key(public_key_pem, aes_key):\n",
    "    public_key = serialization.load_pem_public_key(public_key_pem)\n",
    "    encrypted_aes_key = public_key.encrypt(\n",
    "        aes_key,\n",
    "        padding.OAEP(\n",
    "            mgf=padding.MGF1(algorithm=hashes.SHA256()),\n",
    "            algorithm=hashes.SHA256(),\n",
    "            label=None\n",
    "        )\n",
    "    )\n",
    "    return encrypted_aes_key\n",
    "\n",
    "# Decrypt the AES key using the private key (RSA)\n",
    "def decrypt_aes_key(private_key_pem, encrypted_aes_key):\n",
    "    private_key = serialization.load_pem_private_key(private_key_pem, password=None)\n",
    "    aes_key = private_key.decrypt(\n",
    "        encrypted_aes_key,\n",
    "        padding.OAEP(\n",
    "            mgf=padding.MGF1(algorithm=hashes.SHA256()),\n",
    "            algorithm=hashes.SHA256(),\n",
    "            label=None\n",
    "        )\n",
    "    )\n",
    "    return aes_key\n",
    "\n",
    "# Decrypt the email using the AES key\n",
    "def decrypt_email_aes(aes_key, encrypted_message, iv):\n",
    "    cipher = Cipher(algorithms.AES(aes_key), modes.CBC(iv), backend=default_backend())\n",
    "    decryptor = cipher.decryptor()\n",
    "    decrypted_padded_message = decryptor.update(encrypted_message) + decryptor.finalize()\n",
    "\n",
    "    # Unpad the decrypted message\n",
    "    unpadder = sym_padding.PKCS7(algorithms.AES.block_size).unpadder()\n",
    "    decrypted_message = unpadder.update(decrypted_padded_message) + unpadder.finalize()\n",
    "\n",
    "    return decrypted_message.decode('utf-8')\n",
    "\n",
    "# Example usage\n",
    "if __name__ == \"__main__\":\n",
    "    # Step 1: Generate RSA Key Pair\n",
    "    private_key_pem, public_key_pem = generate_key_pair()\n",
    "\n",
    "    # Step 2: Generate a random AES key\n",
    "    aes_key = generate_aes_key()\n",
    "\n",
    "    # Step 3: Encrypt the email using the AES key\n",
    "    email_message = \"Hello, this is a secure email.\"\n",
    "    encrypted_email, iv = encrypt_email_aes(aes_key, email_message)\n",
    "    print(\"Encrypted Email (AES):\", encrypted_email)\n",
    "\n",
    "    # Step 4: Encrypt the AES key using RSA public key\n",
    "    encrypted_aes_key = encrypt_aes_key(public_key_pem, aes_key)\n",
    "    print(\"\\nEncrypted AES Key (RSA):\", encrypted_aes_key)\n",
    "\n",
    "    # Step 5: Decrypt the AES key using RSA private key\n",
    "    decrypted_aes_key = decrypt_aes_key(private_key_pem, encrypted_aes_key)\n",
    "\n",
    "    # Step 6: Decrypt the email using the decrypted AES key\n",
    "    decrypted_email = decrypt_email_aes(decrypted_aes_key, encrypted_email, iv)\n",
    "    print(\"\\nDecrypted Email:\", decrypted_email)"
   ]
  },
  {
   "cell_type": "markdown",
   "metadata": {},
   "source": [
    "# Q2. Implement S/MIME to encrypt and sign the email messages."
   ]
  },
  {
   "cell_type": "code",
   "execution_count": null,
   "metadata": {},
   "outputs": [
    {
     "name": "stdout",
     "output_type": "stream",
     "text": [
      "SENT SUCCESSFULLY\n"
     ]
    }
   ],
   "source": [
    "import smtplib\n",
    "import datetime\n",
    "from email.mime.text import MIMEText\n",
    "from email.mime.multipart import MIMEMultipart\n",
    "from smail import sign_message\n",
    "import os\n",
    "import sys\n",
    "\n",
    "print(\"Starting the email message siginig and encryption.\")\n",
    "\n",
    "LOGIN_MAIL, LOGIN_PASS = open(\"LOGIN_INFO\", \"r\").read().split(\"\\n\")\n",
    "\n",
    "SMTP_SERVER = \"smtp.gmail.com\"\n",
    "SMTP_PORT = 587\n",
    "\n",
    "CERT_FILE = \"certs/certificate.pem\"\n",
    "KEY_FILE = \"certs/private_key.pem\"\n",
    "\n",
    "message = \"\"\"\n",
    "<h1>Hello User,</h1>\n",
    "<br>\n",
    "<hr>\n",
    "<h3>I am a mail sent using python using with the help of smtplib, email and smail python libraries.</h3>\n",
    "\"\"\"\n",
    "\n",
    "msg = MIMEMultipart(\"related\")\n",
    "msg.attach(MIMEText(message, \"html\", _charset=\"UTF-8\"))\n",
    "msg[\"Subject\"] = f\"MESSAGE {datetime.datetime.today()}\"\n",
    "msg[\"From\"] = LOGIN_MAIL\n",
    "# msg[\"To\"] = sys.argv[1]\n",
    "msg[\"To\"] = \"gen.ai.keshav.2024@gmail.com\"\n",
    "\n",
    "signed_msg = sign_message(msg, KEY_FILE, CERT_FILE)\n",
    "print(\"Message Signed Successfully\")\n",
    "with smtplib.SMTP(SMTP_SERVER, SMTP_PORT) as server:\n",
    "    server.ehlo()\n",
    "    server.starttls()\n",
    "    server.ehlo()\n",
    "    server.login(LOGIN_MAIL, LOGIN_PASS)\n",
    "    server.send_message(signed_msg)\n",
    "\n",
    "with open(\"res.txt\", 'w') as f:\n",
    "    f.write(signed_msg.as_string())\n",
    "    f.close()\n",
    "\n",
    "print(\"SENT SUCCESSFULLY\")"
   ]
  },
  {
   "cell_type": "markdown",
   "metadata": {},
   "source": [
    "# Q3. Implement a Simple HTTPS Server Using LTS"
   ]
  },
  {
   "cell_type": "code",
   "execution_count": null,
   "metadata": {},
   "outputs": [],
   "source": [
    "import http.server\n",
    "import ssl\n",
    "\n",
    "# Define the server address and port\n",
    "server_address = ('localhost', 1110)  # Using port 4443 for HTTPS\n",
    "\n",
    "# Simple request handler\n",
    "class SimpleHTTPRequestHandler(http.server.SimpleHTTPRequestHandler):\n",
    "    def do_GET(self):\n",
    "        # Example: respond to GET requests\n",
    "        self.send_response(200)\n",
    "        self.send_header(\"Content-type\", \"text/html\")\n",
    "        self.end_headers()\n",
    "        self.wfile.write(b\"Hello, this is a secure HTTPS server!\")\n",
    "\n",
    "# Create the HTTP server\n",
    "httpd = http.server.HTTPServer(server_address, SimpleHTTPRequestHandler)\n",
    "\n",
    "# Configure SSL context\n",
    "context = ssl.SSLContext(ssl.PROTOCOL_TLS_SERVER)\n",
    "context.load_cert_chain(certfile=\"server.pem\", keyfile=\"server.pem\")\n",
    "\n",
    "# Wrap the server's socket with the SSL context\n",
    "httpd.socket = context.wrap_socket(httpd.socket, server_side=True)\n",
    "\n",
    "print(f\"Serving on https://{server_address[0]}:{server_address[1]}\")\n",
    "\n",
    "# Run the server\n",
    "httpd.serve_forever()"
   ]
  },
  {
   "cell_type": "markdown",
   "metadata": {},
   "source": [
    "# Q4. Implement secure communication between a client and server using TLS."
   ]
  },
  {
   "cell_type": "markdown",
   "metadata": {},
   "source": [
    "#### tls_sserver.py"
   ]
  },
  {
   "cell_type": "code",
   "execution_count": null,
   "metadata": {},
   "outputs": [
    {
     "name": "stdout",
     "output_type": "stream",
     "text": [
      "Server listening on ('localhost', 1000)\n"
     ]
    }
   ],
   "source": [
    "import socket\n",
    "import ssl\n",
    "\n",
    "# Define server address and port\n",
    "server_address = ('localhost', 4443)\n",
    "\n",
    "# Set up SSL context for the server\n",
    "context = ssl.SSLContext(ssl.PROTOCOL_TLS_SERVER)\n",
    "context.load_cert_chain(certfile=\"server.pem\")  # Load server certificate and private key\n",
    "\n",
    "# Create a TCP socket\n",
    "with socket.socket(socket.AF_INET, socket.SOCK_STREAM, 0) as sock:\n",
    "    sock.bind(server_address)\n",
    "    sock.listen(5)\n",
    "    print(\"Server listening on\", server_address)\n",
    "\n",
    "    # Wrap the socket with the SSL context for secure communication\n",
    "    with context.wrap_socket(sock, server_side=True) as ssock:\n",
    "        # Accept client connections\n",
    "        while True:\n",
    "            client_socket, client_address = ssock.accept()\n",
    "            print(\"Client connected from\", client_address)\n",
    "            try:\n",
    "                # Receive data from the client\n",
    "                data = client_socket.recv(1024)\n",
    "                print(\"Received:\", data.decode())\n",
    "                \n",
    "                # Send a response to the client\n",
    "                client_socket.sendall(b\"Hello, client. This is a secure response.\")\n",
    "            except Exception as e:\n",
    "                print(\"Error:\", e)\n",
    "            finally:\n",
    "                client_socket.close()"
   ]
  },
  {
   "cell_type": "markdown",
   "metadata": {},
   "source": [
    "#### tls_client.py"
   ]
  },
  {
   "cell_type": "code",
   "execution_count": null,
   "metadata": {},
   "outputs": [],
   "source": [
    "import socket\n",
    "import ssl\n",
    "\n",
    "# Define server address and port\n",
    "server_address = ('localhost', 4443)\n",
    "\n",
    "# Set up SSL context for the client\n",
    "context = ssl.SSLContext(ssl.PROTOCOL_TLS_CLIENT)\n",
    "context.load_verify_locations('server.pem')  # Load server certificate to verify\n",
    "\n",
    "# ** Ignore hostname checking ** (for testing purposes)\n",
    "context.check_hostname = False\n",
    "\n",
    "# Create a TCP socket\n",
    "with socket.create_connection(server_address) as sock:\n",
    "    # Wrap the socket with SSL context\n",
    "    with context.wrap_socket(sock, server_hostname='localhost') as ssock:\n",
    "        # Send data to the server\n",
    "        ssock.sendall(b\"Hello, secure server!\")\n",
    "        \n",
    "        # Receive response from the server\n",
    "        data = ssock.recv(1024)\n",
    "        print(\"Received:\", data.decode())\n"
   ]
  }
 ],
 "metadata": {
  "kernelspec": {
   "display_name": "cnsvirt",
   "language": "python",
   "name": "python3"
  },
  "language_info": {
   "codemirror_mode": {
    "name": "ipython",
    "version": 3
   },
   "file_extension": ".py",
   "mimetype": "text/x-python",
   "name": "python",
   "nbconvert_exporter": "python",
   "pygments_lexer": "ipython3",
   "version": "3.12.4"
  }
 },
 "nbformat": 4,
 "nbformat_minor": 2
}
