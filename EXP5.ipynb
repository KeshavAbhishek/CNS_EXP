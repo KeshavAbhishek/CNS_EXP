{
 "cells": [
  {
   "cell_type": "markdown",
   "metadata": {},
   "source": [
    "## Aim: - Implementation of Cryptography Hash Function: SHA-512\n",
    "### Code:"
   ]
  },
  {
   "cell_type": "code",
   "execution_count": 4,
   "metadata": {},
   "outputs": [
    {
     "name": "stdout",
     "output_type": "stream",
     "text": [
      "SHA-512 Hash: faa9879938cb59928d0b44ecdc918dd0da373a313de232b4dbfcb202620312c2eea5d4befa9918dd9b417546f6776d79016c83711b743a6c75fce9432ff7de9a\n"
     ]
    }
   ],
   "source": [
    "H0 = 0x6a09e667f3bcc908\n",
    "H1 = 0xbb67ae8584caa73b\n",
    "H2 = 0x3c6ef372fe94f82b\n",
    "H3 = 0xa54ff53a5f1d36f1\n",
    "H4 = 0x510e527fade682d1\n",
    "H5 = 0x9b05688c2b3e6c1f\n",
    "H6 = 0x1f83d9abfb41bd6b\n",
    "H7 = 0x5be0cd19137e2179\n",
    "\n",
    "K = [\n",
    "    0x428a2f98d728ae22, 0x7137449123ef65cd, 0xb5c0fbcfec4d3b2f, 0xe9b5dba58189dbbc,\n",
    "    0x3956c25bf348b538, 0x59f111f1b605d019, 0x923f82a4af194f9b, 0xab1c5ed5da6d8118,\n",
    "    0xd807aa98a3030242, 0x12835b0145706fbe, 0x243185be4ee4b28c, 0x550c7dc3d5ffb4e2,\n",
    "    0x72be5d74f27b896f, 0x80deb1fe3b1696b1, 0x9bdc06a725c71235, 0xc19bf174cf692694,\n",
    "    0xe49b69c19ef14ad2, 0xefbe4786384f25e3, 0x0fc19dc68b8cd5b5, 0x240ca1cc77ac9c65,\n",
    "    0x2de92c6f592b0275, 0x4a7484aa6ea6e483, 0x5cb0a9dcbd41fbd4, 0x76f988da831153b5,\n",
    "    0x983e5152ee66dfab, 0xa831c66d2db43210, 0xb00327c898fb213f, 0xbf597fc7beef0ee4,\n",
    "    0xc6e00bf33da88fc2, 0xd5a79147930aa725, 0x06ca6351e003826f, 0x142929670a0e6e70,\n",
    "    0x27b70a8546d22ffc, 0x2e1b21385c26c926, 0x4d2c6dfc5ac42aed, 0x53380d139d95b3df,\n",
    "    0x650a73548baf63de, 0x766a0abb3c77b2a8, 0x81c2c92e47edaee6, 0x92722c851482353b,\n",
    "    0xa2bfe8a14cf10364, 0xa81a664bbc423001, 0xc24b8b70d0f89791, 0xc76c51a30654be30,\n",
    "    0xd192e819d6ef5218, 0xd69906245565a910, 0xf40e35855771202a, 0x106aa07032bbd1b8,\n",
    "    0x19a4c116b8d2d0c8, 0x1e376c085141ab53, 0x2748774cdf8eeb99, 0x34b0bcb5e19b48a8,\n",
    "    0x391c0cb3c5c95a63, 0x4ed8aa4ae3418acb, 0x5b9cca4f7763e373, 0x682e6ff3d6b2b8a3,\n",
    "    0x748f82ee5defb2fc, 0x78a5636f43172f60, 0x84c87814a1f0ab72, 0x8cc702081a6439ec,\n",
    "    0x90befffa23631e28, 0xa4506cebde82bde9, 0xbef9a3f7b2c67915, 0xc67178f2e372532b,\n",
    "    0xca273eceea26619c, 0xd186b8c721c0c207, 0xeada7dd6cde0eb1e, 0xf57d4f7fee6ed178,\n",
    "    0x06f067aa72176fba, 0x0a637dc5a2c898a6, 0x113f9804bef90dae, 0x1b710b35131c471b,\n",
    "    0x28db77f523047d84, 0x32caab7b40c72493, 0x3c9ebe0a15c9bebc, 0x431d67c49c100d4c,\n",
    "    0x4cc5d4becb3e42b6, 0x597f299cfc657e2a, 0x5fcb6fab3ad6faec, 0x6c44198c4a475817\n",
    "]\n",
    "\n",
    "message = \"CGU\"\n",
    "message = bytearray(message, 'ascii')\n",
    "original_length = len(message) * 8\n",
    "message.append(0x80)\n",
    "\n",
    "while (len(message) * 8) % 1024 != 896:\n",
    "    message.append(0)\n",
    "\n",
    "message += original_length.to_bytes(16, 'big')\n",
    "\n",
    "for i in range(0, len(message), 128):\n",
    "    block = message[i:i + 128]\n",
    "    w = [int.from_bytes(block[j:j + 8], 'big') for j in range(0, 128, 8)]\n",
    "    for j in range(16, 80):\n",
    "        s0 = ((w[j - 15] >> 1) | (w[j - 15] << (64 - 1))) ^ ((w[j - 15] >> 8) | (w[j - 15] << (64 - 8))) ^ (w[j - 15] >> 7)\n",
    "        s1 = ((w[j - 2] >> 19) | (w[j - 2] << (64 - 19))) ^ ((w[j - 2] >> 61) | (w[j - 2] << (64 - 61))) ^ (w[j - 2] >> 6)\n",
    "        w.append((w[j - 16] + s0 + w[j - 7] + s1) & 0xFFFFFFFFFFFFFFFF)\n",
    "\n",
    "    a = H0\n",
    "    b = H1\n",
    "    c = H2\n",
    "    d = H3\n",
    "    e = H4\n",
    "    f = H5\n",
    "    g = H6\n",
    "    h = H7\n",
    "\n",
    "    for j in range(80):\n",
    "        S1 = ((e >> 14) | (e << (64 - 14))) ^ ((e >> 18) | (e << (64 - 18))) ^ ((e >> 41) | (e << (64 - 41)))\n",
    "        ch = (e & f) ^ (~e & g)\n",
    "        temp1 = (h + S1 + ch + K[j % len(K)] + w[j]) & 0xFFFFFFFFFFFFFFFF\n",
    "        S0 = ((a >> 28) | (a << (64 - 28))) ^ ((a >> 34) | (a << (64 - 34))) ^ ((a >> 39) | (a << (64 - 39)))\n",
    "        maj = (a & b) ^ (a & c) ^ (b & c)\n",
    "        temp2 = (S0 + maj) & 0xFFFFFFFFFFFFFFFF\n",
    "\n",
    "        h = g\n",
    "        g = f\n",
    "        f = e\n",
    "        e = (d + temp1) & 0xFFFFFFFFFFFFFFFF\n",
    "        d = c\n",
    "        c = b\n",
    "        b = a\n",
    "        a = (temp1 + temp2) & 0xFFFFFFFFFFFFFFFF\n",
    "\n",
    "    H0 = (H0 + a) & 0xFFFFFFFFFFFFFFFF\n",
    "    H1 = (H1 + b) & 0xFFFFFFFFFFFFFFFF\n",
    "    H2 = (H2 + c) & 0xFFFFFFFFFFFFFFFF\n",
    "    H3 = (H3 + d) & 0xFFFFFFFFFFFFFFFF\n",
    "    H4 = (H4 + e) & 0xFFFFFFFFFFFFFFFF\n",
    "    H5 = (H5 + f) & 0xFFFFFFFFFFFFFFFF\n",
    "    H6 = (H6 + g) & 0xFFFFFFFFFFFFFFFF\n",
    "    H7 = (H7 + h) & 0xFFFFFFFFFFFFFFFF\n",
    "\n",
    "hash_result = (H0.to_bytes(8, 'big') + H1.to_bytes(8, 'big') + H2.to_bytes(8, 'big') +\n",
    "               H3.to_bytes(8, 'big') + H4.to_bytes(8, 'big') + H5.to_bytes(8, 'big') +\n",
    "               H6.to_bytes(8, 'big') + H7.to_bytes(8, 'big'))\n",
    "\n",
    "print(\"SHA-512 Hash:\", hash_result.hex())"
   ]
  },
  {
   "cell_type": "code",
   "execution_count": 2,
   "metadata": {},
   "outputs": [
    {
     "name": "stdout",
     "output_type": "stream",
     "text": [
      "Original String: CGU\n",
      "SHA-512 Hash: faa9879938cb59928d0b44ecdc918dd0da373a313de232b4dbfcb202620312c2eea5d4befa9918dd9b417546f6776d79016c83711b743a6c75fce9432ff7de9a\n"
     ]
    }
   ],
   "source": [
    "import hashlib\n",
    "\n",
    "# Input string\n",
    "input_string = \"CGU\"\n",
    "\n",
    "# Create a SHA-512 hash object\n",
    "hash_object = hashlib.sha512()\n",
    "\n",
    "# Update the hash object with the bytes of the input string\n",
    "hash_object.update(input_string.encode('utf-8'))\n",
    "\n",
    "# Get the hexadecimal representation of the hash\n",
    "hash_hex = hash_object.hexdigest()\n",
    "\n",
    "# Print the original string and its SHA-512 hash\n",
    "print(f\"Original String: {input_string}\")\n",
    "print(f\"SHA-512 Hash: {hash_hex}\")"
   ]
  }
 ],
 "metadata": {
  "kernelspec": {
   "display_name": "cnsvirt",
   "language": "python",
   "name": "python3"
  },
  "language_info": {
   "codemirror_mode": {
    "name": "ipython",
    "version": 3
   },
   "file_extension": ".py",
   "mimetype": "text/x-python",
   "name": "python",
   "nbconvert_exporter": "python",
   "pygments_lexer": "ipython3",
   "version": "3.12.4"
  }
 },
 "nbformat": 4,
 "nbformat_minor": 2
}
