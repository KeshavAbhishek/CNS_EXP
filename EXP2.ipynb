{
 "cells": [
  {
   "cell_type": "markdown",
   "metadata": {},
   "source": [
    "# Experiment 2\n",
    "---"
   ]
  },
  {
   "cell_type": "markdown",
   "metadata": {},
   "source": [
    "#### Q1. Write a program in Python for the demonstration of encryption and decryption process of Rail Fence cipher. \n",
    "* i.\tDefine an encrypt function to encrypt the message “CRYPTOGRAPHY IS A TECHNIQUE OF SECURING COMMUNICATION” where the depth value is 3. \n",
    "* ii.\tDefine a decrypt function to decrypt the output of the above encrypt function by using the same depth value is 3."
   ]
  },
  {
   "cell_type": "code",
   "execution_count": 1,
   "metadata": {},
   "outputs": [
    {
     "name": "stdout",
     "output_type": "stream",
     "text": [
      "Enter depth size:  3\n"
     ]
    },
    {
     "name": "stdout",
     "output_type": "stream",
     "text": [
      "\n",
      "\n",
      "\n",
      "Encrypted CTA ACQOEICUANRPORPYI  EHIU FSCRN OMNCTOYGHSTNE UGMII\n",
      "Decrypted: CRYPTOGRAPHY IS A TECHNIQUE OF SECURING COMMUNICATION\n"
     ]
    }
   ],
   "source": [
    "def encrypt(plaintText, depthValue):\n",
    "    # plaintText = plaintText.replace(\" \", \"\")\n",
    "    colSize = len(plaintText)\n",
    "    rowSize = depthValue\n",
    "\n",
    "    row, col = 0, 0\n",
    "\n",
    "    matrix = []\n",
    "    temp = []\n",
    "\n",
    "    for i in range(rowSize):\n",
    "        for j in range(colSize):\n",
    "            temp.append(\".\")\n",
    "        matrix.append(temp)\n",
    "        temp=[]\n",
    "    \n",
    "    change = 1\n",
    "    while(col!=len(plaintText)):\n",
    "        matrix[row][col] = plaintText[col]\n",
    "        if(row == depthValue-1):\n",
    "            change = -1\n",
    "        if(row == 0):\n",
    "            change = 1\n",
    "        row = row + change\n",
    "        col+=1\n",
    "\n",
    "    cipherText = ''\n",
    "    for i in range(rowSize):\n",
    "        for j in range(colSize):\n",
    "            if(matrix[i][j]!='.'):\n",
    "                cipherText+=matrix[i][j]\n",
    "            # print(matrix[i][j], end=\" \")\n",
    "        print()\n",
    "    \n",
    "    return cipherText\n",
    "\n",
    "def decrypt(cipherText, depthValue):\n",
    "    colSize = len(cipherText)\n",
    "    rowSize = depthValue\n",
    "\n",
    "    row, col = 0, 0\n",
    "\n",
    "    # Create the matrix with all empty spaces\n",
    "    matrix = [['' for _ in range(colSize)] for _ in range(rowSize)]\n",
    "\n",
    "\n",
    "    change = 1\n",
    "    for i in range(colSize):\n",
    "        matrix[row][col] = '*'\n",
    "        if row == rowSize - 1:\n",
    "            change = -1\n",
    "        if row == 0:\n",
    "            change = 1\n",
    "        row += change\n",
    "        col += 1\n",
    "\n",
    "\n",
    "    index = 0\n",
    "    for i in range(rowSize):\n",
    "        for j in range(colSize):\n",
    "            if matrix[i][j] == '*' and index < len(cipherText):\n",
    "                matrix[i][j] = cipherText[index]\n",
    "                index += 1\n",
    "\n",
    "\n",
    "    row, col, change = 0, 0, 1\n",
    "    plainText = []\n",
    "    for i in range(colSize):\n",
    "        plainText.append(matrix[row][col])\n",
    "        if row == rowSize - 1:\n",
    "            change = -1\n",
    "        if row == 0:\n",
    "            change = 1\n",
    "        row += change\n",
    "        col += 1\n",
    "\n",
    "    return ''.join(plainText)\n",
    "\n",
    "depthValue = int(input(\"Enter depth size: \"))\n",
    "cipherText = encrypt(\"CRYPTOGRAPHY IS A TECHNIQUE OF SECURING COMMUNICATION\", depthValue)\n",
    "print(\"Encrypted\", cipherText)\n",
    "print(\"Decrypted:\", decrypt(cipherText, depthValue))\n",
    "\n"
   ]
  },
  {
   "cell_type": "markdown",
   "metadata": {},
   "source": [
    "#### Q2. Write program in Python to encrypt a message “India, a diverse and vibrant country, is known for its rich cultural heritage, delicious cuisine, and breathtaking landscapes; from the Himalayas in the north to the beautiful beaches in the south.” By using Rail Fence cipher where depth value is 6 and the special characters and spaces are included correctly.\n",
    "\n",
    "* Input: India, a diverse and vibrant country, is known for its rich cultural heritage, delicious cuisine, and breathtaking landscapes; from the Himalayas in the north to the beautiful beaches in the south."
   ]
  },
  {
   "cell_type": "code",
   "execution_count": 2,
   "metadata": {},
   "outputs": [
    {
     "name": "stdout",
     "output_type": "stream",
     "text": [
      "Enter depth size:  6\n"
     ]
    },
    {
     "name": "stdout",
     "output_type": "stream",
     "text": [
      "Encrypted: Ii o  ceeudasoattucendvdvcuskri uhrdlcin tkdcrmml h oatahh d eni ninothl i i sab-inaf ianeh eieetsiarabtt ofsctlt,csi rhnap tHyi ttbfbs o.a s rnr,w  iuaaeiun,etgle;h a nrh u  nuh,eaynrrgoea sesoelit\n",
      "Decrypted: India, a diverse and vibrant country, is known for its rich cultural heritage, delicious cuisine, and breath-taking landscapes; from the Himalayas in the north to the beautiful beaches in the south.\n"
     ]
    }
   ],
   "source": [
    "def encrypt(plaintText, depthValue):\n",
    "    # plaintText = plaintText.replace(\" \", \"\")\n",
    "    colSize = len(plaintText)\n",
    "    rowSize = depthValue\n",
    "\n",
    "    row, col = 0, 0\n",
    "\n",
    "    matrix = []\n",
    "    temp = []\n",
    "\n",
    "    for i in range(rowSize):\n",
    "        for j in range(colSize):\n",
    "            temp.append(\"#\")\n",
    "        matrix.append(temp)\n",
    "        temp=[]\n",
    "    \n",
    "    change = 1\n",
    "    while(col!=len(plaintText)):\n",
    "        matrix[row][col] = plaintText[col]\n",
    "        if(row == depthValue-1):\n",
    "            change = -1\n",
    "        if(row == 0):\n",
    "            change = 1\n",
    "        row = row + change\n",
    "        col+=1\n",
    "\n",
    "    cipherText = ''\n",
    "    for i in range(rowSize):\n",
    "        for j in range(colSize):\n",
    "            if(matrix[i][j]!='#'):\n",
    "                cipherText+=matrix[i][j]\n",
    "            # print(matrix[i][j], end=\" \")\n",
    "        # print()\n",
    "    \n",
    "    return cipherText\n",
    "\n",
    "def decrypt(cipherText, depthValue):\n",
    "    colSize = len(cipherText)\n",
    "    rowSize = depthValue\n",
    "\n",
    "    row, col = 0, 0\n",
    "\n",
    "    matrix = [['' for _ in range(colSize)] for _ in range(rowSize)]\n",
    "\n",
    "\n",
    "    change = 1\n",
    "    for i in range(colSize):\n",
    "        matrix[row][col] = '*'\n",
    "        if row == rowSize - 1:\n",
    "            change = -1\n",
    "        if row == 0:\n",
    "            change = 1\n",
    "        row += change\n",
    "        col += 1\n",
    "\n",
    "\n",
    "    index = 0\n",
    "    for i in range(rowSize):\n",
    "        for j in range(colSize):\n",
    "            if matrix[i][j] == '*' and index < len(cipherText):\n",
    "                matrix[i][j] = cipherText[index]\n",
    "                index += 1\n",
    "\n",
    "\n",
    "    row, col, change = 0, 0, 1\n",
    "    plainText = []\n",
    "    for i in range(colSize):\n",
    "        plainText.append(matrix[row][col])\n",
    "        if row == rowSize - 1:\n",
    "            change = -1\n",
    "        if row == 0:\n",
    "            change = 1\n",
    "        row += change\n",
    "        col += 1\n",
    "\n",
    "    return ''.join(plainText)\n",
    "\n",
    "depthValue = int(input(\"Enter depth size: \"))\n",
    "cipherText = encrypt(\"India, a diverse and vibrant country, is known for its rich cultural heritage, delicious cuisine, and breath-taking landscapes; from the Himalayas in the north to the beautiful beaches in the south.\", depthValue)\n",
    "print(\"Encrypted:\", cipherText)\n",
    "print(\"Decrypted:\", decrypt(cipherText, depthValue))"
   ]
  },
  {
   "cell_type": "markdown",
   "metadata": {},
   "source": [
    "#### Q3. Write a Python program to encrypt a message “HELLO STUDENTS!!” using Columnar transposition where key= 2031. Write the code to decrypt the output of above encryption using the same key value then compare whether both the decrypted text and original message are equivalent or not (print the result in Boolean form)."
   ]
  },
  {
   "cell_type": "code",
   "execution_count": 3,
   "metadata": {},
   "outputs": [
    {
     "name": "stdout",
     "output_type": "stream",
     "text": [
      "Encrypted: E DSLTN!HOUTLSE!\n",
      "Decrypted: HELLO STUDENTS!!\n",
      "Equivalent: True\n"
     ]
    }
   ],
   "source": [
    "def columnar_transposition_encrypt(message, key):\n",
    "    key = [int(k) for k in str(key)]\n",
    "    key_length = len(key)\n",
    "    \n",
    "    while len(message) % key_length != 0:\n",
    "        message += 'X'\n",
    "    \n",
    "    matrix = [''] * key_length\n",
    "    for i in range(len(message)):\n",
    "        col = i % key_length\n",
    "        matrix[col] += message[i]\n",
    "    \n",
    "    sorted_matrix = [matrix[key.index(k)] for k in sorted(key)]\n",
    "    \n",
    "    cipher_text = ''.join(sorted_matrix)\n",
    "    \n",
    "    return cipher_text\n",
    "\n",
    "def columnar_transposition_decrypt(cipher_text, key):\n",
    "    key = [int(k) for k in str(key)]\n",
    "    key_length = len(key)\n",
    "    num_rows = len(cipher_text) // key_length\n",
    "    \n",
    "    matrix = [''] * key_length\n",
    "    \n",
    "    index = 0\n",
    "    for k in sorted(key):\n",
    "        col = key.index(k)\n",
    "        matrix[col] = cipher_text[index:index + num_rows]\n",
    "        index += num_rows\n",
    "    \n",
    "    plain_text = ''\n",
    "    for i in range(num_rows):\n",
    "        for col in matrix:\n",
    "            plain_text += col[i]\n",
    "    \n",
    "    return plain_text\n",
    "\n",
    "key = \"2031\"\n",
    "message = \"HELLO STUDENTS!!\"\n",
    "cipher_text = columnar_transposition_encrypt(message, key)\n",
    "decrypted_text = columnar_transposition_decrypt(cipher_text, key)\n",
    "\n",
    "# Print results\n",
    "print(\"Encrypted:\", cipher_text)\n",
    "print(\"Decrypted:\", decrypted_text)\n",
    "print(\"Equivalent:\", decrypted_text == message)"
   ]
  },
  {
   "cell_type": "markdown",
   "metadata": {},
   "source": [
    "#### Q4. Write a Python program to encrypt a message “CUTTING TREES CUTS RAIN; PROTECT FORESTS TO PRESERVE OUR WATER” using Columnar transposition where key= EDUCATION. Write the code to decrypt the output of above encryption using the same key value."
   ]
  },
  {
   "cell_type": "code",
   "execution_count": 4,
   "metadata": {},
   "outputs": [
    {
     "name": "stdout",
     "output_type": "stream",
     "text": [
      "Encrypted: I NT RATSICSEWUERTSERCR OERUGU FOEETSRRPOX TPO  RNC; TVTTEAETS \n",
      "Decrypted: CUTTING TREES CUTS RAIN; PROTECT FORESTS TO PRESERVE OUR WATERX\n"
     ]
    }
   ],
   "source": [
    "def columnar_transposition_encrypt(message, key):\n",
    "    key_length = len(key)\n",
    "    \n",
    "    while len(message) % key_length != 0:\n",
    "        message += 'X'\n",
    "    \n",
    "    matrix = [''] * key_length\n",
    "    for i in range(len(message)):\n",
    "        col = i % key_length\n",
    "        matrix[col] += message[i]\n",
    "    \n",
    "    sorted_matrix = [matrix[key.index(k)] for k in sorted(key)]\n",
    "    \n",
    "    cipher_text = ''.join(sorted_matrix)\n",
    "    \n",
    "    return cipher_text\n",
    "\n",
    "def columnar_transposition_decrypt(cipher_text, key):\n",
    "    key_length = len(key)\n",
    "    num_rows = len(cipher_text) // key_length\n",
    "    \n",
    "    matrix = [''] * key_length\n",
    "    \n",
    "    index = 0\n",
    "    for k in sorted(key):\n",
    "        col = key.index(k)\n",
    "        matrix[col] = cipher_text[index:index + num_rows]\n",
    "        index += num_rows\n",
    "    \n",
    "    plain_text = ''\n",
    "    for i in range(num_rows):\n",
    "        for col in matrix:\n",
    "            plain_text += col[i]\n",
    "    \n",
    "    return plain_text\n",
    "\n",
    "key = \"EDUCATION\"\n",
    "message = \"CUTTING TREES CUTS RAIN; PROTECT FORESTS TO PRESERVE OUR WATER\"\n",
    "cipher_text = columnar_transposition_encrypt(message, key)\n",
    "decrypted_text = columnar_transposition_decrypt(cipher_text, key)\n",
    "\n",
    "# Print results\n",
    "print(\"Encrypted:\", cipher_text)\n",
    "print(\"Decrypted:\", decrypted_text)"
   ]
  },
  {
   "cell_type": "code",
   "execution_count": null,
   "metadata": {},
   "outputs": [],
   "source": []
  }
 ],
 "metadata": {
  "kernelspec": {
   "display_name": "Python 3 (ipykernel)",
   "language": "python",
   "name": "python3"
  },
  "language_info": {
   "codemirror_mode": {
    "name": "ipython",
    "version": 3
   },
   "file_extension": ".py",
   "mimetype": "text/x-python",
   "name": "python",
   "nbconvert_exporter": "python",
   "pygments_lexer": "ipython3",
   "version": "3.12.4"
  }
 },
 "nbformat": 4,
 "nbformat_minor": 4
}
