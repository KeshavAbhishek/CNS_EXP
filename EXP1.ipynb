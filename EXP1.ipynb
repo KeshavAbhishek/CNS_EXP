{
 "cells": [
  {
   "cell_type": "markdown",
   "metadata": {},
   "source": [
    "# Experiment - 1"
   ]
  },
  {
   "cell_type": "markdown",
   "metadata": {},
   "source": [
    "---"
   ]
  },
  {
   "cell_type": "markdown",
   "metadata": {},
   "source": [
    "#### Q1. Write a python program for the demonstration of encryption and decryption process of Ceaser cipher. (use the numeric values of the alphabets starting from 0 to 25)\n",
    "* i.\tDefine an encrypt_message function to encrypt the message “THE HOUSE IS NOW FOR SALE” where the key/shift value is 5. \n",
    "* ii.\tDefine a decrypt_message function to decrypt the output of encrypt_message function by using the key/shift value is 5.\n"
   ]
  },
  {
   "cell_type": "code",
   "execution_count": 1,
   "metadata": {},
   "outputs": [
    {
     "name": "stdout",
     "output_type": "stream",
     "text": [
      "Original Data: THE HOUSE IS NOW FOR SALE\n",
      "\n",
      "Encrypted: YMJ MTZXJ NX STB KTW XFQJ\n",
      "Decrypted: THE HOUSE IS NOW FOR SALE\n"
     ]
    }
   ],
   "source": [
    "def encrypt_message(plaintext, key):\n",
    "    alphabets = \"abcdefghijklmnopqrstuvwxyz\"\n",
    "    alphabets = alphabets.upper()\n",
    "    ceaserText = \"\"\n",
    "    for i in plaintext:\n",
    "        if(i in alphabets):\n",
    "            ceaserText += alphabets[(alphabets.index(i) + key)%26]\n",
    "        else:\n",
    "            ceaserText+=i\n",
    "    return ceaserText\n",
    "\n",
    "\n",
    "def decrypt_message(ceaserText, key):\n",
    "    alphabets = \"abcdefghijklmnopqrstuvwxyz\"\n",
    "    alphabets = alphabets.upper()\n",
    "    plainText = \"\"\n",
    "    for i in ceaserText:\n",
    "        if(i in alphabets):\n",
    "            plainText += alphabets[(alphabets.index(i) - key)%26]\n",
    "        else:\n",
    "            plainText+=i\n",
    "    return plainText\n",
    "orgData = \"THE HOUSE IS NOW FOR SALE\"\n",
    "print(\"Original Data:\", orgData+\"\\n\")\n",
    "enc = encrypt_message(orgData, 5)\n",
    "print(\"Encrypted:\", enc)\n",
    "dec = decrypt_message(enc, 5)\n",
    "print(\"Decrypted:\", dec)"
   ]
  },
  {
   "cell_type": "markdown",
   "metadata": {},
   "source": [
    "#### Q2. Write a python program for the demonstration of encryption and decryption process of Ceaser cipher. (use the ASCII values of the uppercase letters)\n",
    "* i.\tDefine an encrypt_message function to encrypt the message “CV RAMAN GLOBAL UNIVERSITY BHUBANESWAR” where the key/shift value is 7.\n",
    "* ii.\tDefine a decrypt_message function to decrypt the output of encrypt_message function by using the key/shift value is 7.\n",
    "* Encryption function formula:  E(x) = ((x−ASCIIA+shift) mod26) + ASCIIA\n",
    "Decryption function formula:  D(x) = ((x−ASCIIA−shift+26) mod26) + ASCIIA\n",
    "For example: E(′H′) = ((72−65+4) mod 26)) + 65=76→′L′\n"
   ]
  },
  {
   "cell_type": "code",
   "execution_count": 2,
   "metadata": {},
   "outputs": [
    {
     "name": "stdout",
     "output_type": "stream",
     "text": [
      "Original Data: CV RAMAN GLOBAL UNIVERSITY BHUBANESWAR\n",
      "\n",
      "Encrypted: JC YHTHU NSVIHS BUPCLYZPAF IOBIHULZDHY\n",
      "Decrypted: CV RAMAN GLOBAL UNIVERSITY BHUBANESWAR\n"
     ]
    }
   ],
   "source": [
    "def encrypt_message(plaintext, key):\n",
    "    alphabets = \"abcdefghijklmnopqrstuvwxyz\"\n",
    "    alphabets = alphabets.upper()\n",
    "    ceaserText = \"\"\n",
    "    for i in plaintext:\n",
    "        if(i in alphabets):\n",
    "            ceaserText += chr(((ord(i)-65+key)%26)+65)\n",
    "        else:\n",
    "            ceaserText+=i\n",
    "    return ceaserText\n",
    "\n",
    "\n",
    "def decrypt_message(ceaserText, key):\n",
    "    alphabets = \"abcdefghijklmnopqrstuvwxyz\"\n",
    "    alphabets = alphabets.upper()\n",
    "    plainText = \"\"\n",
    "    for i in ceaserText:\n",
    "        if(i in alphabets):\n",
    "            plainText += chr(((ord(i)-65-key+26)%26)+65)\n",
    "        else:\n",
    "            plainText+=i\n",
    "    return plainText\n",
    "\n",
    "orgData = \"CV RAMAN GLOBAL UNIVERSITY BHUBANESWAR\"\n",
    "print(\"Original Data:\", orgData+\"\\n\")\n",
    "enc = encrypt_message(orgData, 7)\n",
    "print(\"Encrypted:\", enc)\n",
    "dec = decrypt_message(enc, 7)\n",
    "print(\"Decrypted:\", dec)"
   ]
  },
  {
   "cell_type": "markdown",
   "metadata": {},
   "source": [
    "#### Q3. Write a python program for the demonstration of encryption and decryption process of Ceaser cipher. (use the extended character set defined below)\n",
    "* i.\tDefine an encrypt_message function to encrypt the message “I am a Student of Fifth Semester 123#%” where the key/shift value is 4.\n",
    "* ii.\tDefine a decrypt_message function to decrypt the output of encrypt_message function by using the key/shift value is 4.\n",
    "---\n",
    "Extended character set defined below:\n",
    "* A = 0, B = 1, ..., Z = 25\n",
    "* a = 26, b = 27, ..., z = 51\n",
    "* 0 = 52, 1 = 53, ..., 9 = 61\n",
    "* ' '= 62, ! = 63, @ = 64, # = 65, $ = 66, % = 67\n"
   ]
  },
  {
   "cell_type": "code",
   "execution_count": 3,
   "metadata": {},
   "outputs": [
    {
     "name": "stdout",
     "output_type": "stream",
     "text": [
      "Encrypted: M$eq$e$Wxyhirx$sj$Jmjxl$Wiqiwxiv$567BD\n",
      "Decrypted: I am a Student of Fifth Semester 123#%\n"
     ]
    }
   ],
   "source": [
    "def encrypt_message(plaintext, key):\n",
    "    setOfData = [chr(i) for i in range(65,65+26)] + [chr(i) for i in range(97,97+26)] + [str(i) for i in range(9)] + [' ','!', '@', '#', '$', \"%\"]\n",
    "    setOfData = \"\".join(setOfData)\n",
    "    \n",
    "    ceaserText = \"\"\n",
    "    for i in plaintext:\n",
    "        if(i in setOfData):\n",
    "            ceaserText += setOfData[(setOfData.index(i) + key)%67]\n",
    "        else:\n",
    "            ceaserText+=i\n",
    "    return ceaserText\n",
    "\n",
    "def decrypt_message(ceaserText, key):\n",
    "    setOfData = [chr(i) for i in range(65,65+26)] + [chr(i) for i in range(97,97+26)] + [str(i) for i in range(9)] + [' ','!', '@', '#', '$', \"%\"]\n",
    "    setOfData = \"\".join(setOfData)\n",
    "    \n",
    "    plainText = \"\"\n",
    "    for i in ceaserText:\n",
    "        if(i in setOfData):\n",
    "            plainText += setOfData[(setOfData.index(i) - key)%67]\n",
    "        else:\n",
    "            plainText+=i\n",
    "    return plainText\n",
    "\n",
    "enc = encrypt_message(\"I am a Student of Fifth Semester 123#%\", 4)\n",
    "print(\"Encrypted:\", enc)\n",
    "dec = decrypt_message(enc, 4)\n",
    "print(\"Decrypted:\", dec)"
   ]
  },
  {
   "cell_type": "markdown",
   "metadata": {},
   "source": [
    "#### Q4. Write a python program to encrypt a message “123abc!dfg%” by using Ceaser cipher where the key/shift value is 6 (use the numeric values of the alphabets starting from 0 to 25. Keep the special characters, and numeric values in the original message as it is)."
   ]
  },
  {
   "cell_type": "code",
   "execution_count": 4,
   "metadata": {},
   "outputs": [
    {
     "name": "stdout",
     "output_type": "stream",
     "text": [
      "Original: 123abc!dfg%\n",
      "Encrypted: 123ghi!jlm%\n"
     ]
    }
   ],
   "source": [
    "def encrypt_message(plaintext, key):\n",
    "    alphabets = \"abcdefghijklmnopqrstuvwxyz\"\n",
    "    ceaserText = \"\"\n",
    "    for i in plaintext:\n",
    "        if(i in alphabets):\n",
    "            ceaserText += alphabets[(alphabets.index(i) + key)%26]\n",
    "        else:\n",
    "            ceaserText+=i\n",
    "    return ceaserText\n",
    "\n",
    "orgData = \"123abc!dfg%\"\n",
    "shift = 6\n",
    "\n",
    "print(\"Original: {}\".format(orgData))\n",
    "print(\"Encrypted:\", encrypt_message(orgData, shift))"
   ]
  },
  {
   "cell_type": "markdown",
   "metadata": {},
   "source": [
    "#### Q5. Write a python program to encrypt the message “Hide the gold in the tree stumps” using Playfair Cipher where the keyword is “Playfair example”."
   ]
  },
  {
   "cell_type": "code",
   "execution_count": 5,
   "metadata": {},
   "outputs": [
    {
     "name": "stdout",
     "output_type": "stream",
     "text": [
      "Original Text: Hide the gold in the tree stump\n",
      "Ciphertext: BMODZBXDNABEKUDMUIXMMOUVIF\n"
     ]
    }
   ],
   "source": [
    "def generate_playfair_matrix(keyword):\n",
    "    keyword = keyword.upper().replace('J', 'I')\n",
    "    matrix = []\n",
    "    used = set()\n",
    "\n",
    "    for char in keyword:\n",
    "        if char not in used and char.isalpha():\n",
    "            matrix.append(char)\n",
    "            used.add(char)\n",
    "\n",
    "    alphabet = 'ABCDEFGHIKLMNOPQRSTUVWXYZ'\n",
    "    for char in alphabet:\n",
    "        if char not in used:\n",
    "            matrix.append(char)\n",
    "            used.add(char)\n",
    "\n",
    "    return [matrix[i:i + 5] for i in range(0, 25, 5)]\n",
    "\n",
    "def find_position(matrix, char):\n",
    "    for row in range(5):\n",
    "        for col in range(5):\n",
    "            if matrix[row][col] == char:\n",
    "                return row, col\n",
    "    return None\n",
    "\n",
    "def process_digraph(matrix, digraph):\n",
    "    row1, col1 = find_position(matrix, digraph[0])\n",
    "    row2, col2 = find_position(matrix, digraph[1])\n",
    "\n",
    "    if row1 == row2:\n",
    "        return matrix[row1][(col1 + 1) % 5] + matrix[row2][(col2 + 1) % 5]\n",
    "    elif col1 == col2:\n",
    "        return matrix[(row1 + 1) % 5][col1] + matrix[(row2 + 1) % 5][col2]\n",
    "    else:\n",
    "        return matrix[row1][col2] + matrix[row2][col1]\n",
    "\n",
    "def prepare_text(plaintext):\n",
    "    plaintext = plaintext.upper().replace('J', 'I').replace(' ', '')\n",
    "    digraphs = []\n",
    "    i = 0\n",
    "    while i < len(plaintext):\n",
    "        a = plaintext[i]\n",
    "        if i + 1 < len(plaintext):\n",
    "            b = plaintext[i + 1]\n",
    "        else:\n",
    "            b = 'X'\n",
    "        if a == b:\n",
    "            digraphs.append(a + 'X')\n",
    "            i += 1\n",
    "        else:\n",
    "            digraphs.append(a + b)\n",
    "            i += 2\n",
    "    return digraphs\n",
    "\n",
    "def playfair_encrypt(plaintext, keyword):\n",
    "    matrix = generate_playfair_matrix(keyword)\n",
    "    digraphs = prepare_text(plaintext)\n",
    "    ciphertext = ''\n",
    "    for digraph in digraphs:\n",
    "        ciphertext += process_digraph(matrix, digraph)\n",
    "    return ciphertext\n",
    "\n",
    "\n",
    "plaintext = \"Hide the gold in the tree stump\"\n",
    "keyword = \"Playfair example\"\n",
    "ciphertext = playfair_encrypt(plaintext, keyword)\n",
    "print(f\"Original Text: {plaintext}\")\n",
    "print(f\"Ciphertext: {ciphertext}\")"
   ]
  },
  {
   "cell_type": "markdown",
   "metadata": {},
   "source": [
    "#### Q6. The following was encrypted by using Playfair Cipher with the keyword “Galois”. Write a python program to decrypt the encrypted message “AQOUNGCIEYEOKVNGBIMEHOTUEUNBCLOKIH”"
   ]
  },
  {
   "cell_type": "code",
   "execution_count": 6,
   "metadata": {},
   "outputs": [
    {
     "name": "stdout",
     "output_type": "stream",
     "text": [
      "Key Matrix:\n",
      "G A L O I\n",
      "S B C D E\n",
      "F H K M N\n",
      "P Q R T U\n",
      "V W X Y Z\n",
      "Decrypted Message: WHITFIELDZDIFXFIEANDMARTINHELXLMAN\n"
     ]
    }
   ],
   "source": [
    "def create_matrix(keyword):\n",
    "    keyword = \"\".join(dict.fromkeys(keyword))\n",
    "    alphabet = \"ABCDEFGHIKLMNOPQRSTUVWXYZ\"\n",
    "    key_matrix = []\n",
    "    for char in keyword:\n",
    "        if char not in key_matrix:\n",
    "            key_matrix.append(char)\n",
    "    for char in alphabet:\n",
    "        if char not in key_matrix:\n",
    "            key_matrix.append(char)\n",
    "    matrix = [key_matrix[i:i + 5] for i in range(0, 25, 5)]\n",
    "    return matrix\n",
    "\n",
    "def print_matrix(matrix):\n",
    "    for row in matrix:\n",
    "        print(\" \".join(row))\n",
    "\n",
    "def find_position(matrix, char):\n",
    "    for i, row in enumerate(matrix):\n",
    "        if char in row:\n",
    "            return i, row.index(char)\n",
    "    return None\n",
    "\n",
    "def decrypt_pair(matrix, pair):\n",
    "    row1, col1 = find_position(matrix, pair[0])\n",
    "    row2, col2 = find_position(matrix, pair[1])\n",
    "    if row1 == row2:\n",
    "        return matrix[row1][(col1 - 1) % 5] + matrix[row2][(col2 - 1) % 5]\n",
    "    elif col1 == col2:\n",
    "        return matrix[(row1 - 1) % 5][col1] + matrix[(row2 - 1) % 5][col2]\n",
    "    else:\n",
    "        return matrix[row1][col2] + matrix[row2][col1]\n",
    "\n",
    "def decrypt_playfair(ciphertext, keyword):\n",
    "    matrix = create_matrix(keyword.upper().replace(\"J\", \"I\"))\n",
    "    print(\"Key Matrix:\")\n",
    "    print_matrix(matrix)\n",
    "    plaintext = \"\"\n",
    "    for i in range(0, len(ciphertext), 2):\n",
    "        pair = ciphertext[i:i+2]\n",
    "        plaintext += decrypt_pair(matrix, pair)\n",
    "    return plaintext\n",
    "\n",
    "ciphertext = \"AQOUNGCIEYEOKVNGBIMEHOTUEUNBCLOKIH\"\n",
    "keyword = \"Galois\"\n",
    "\n",
    "decrypted_message = decrypt_playfair(ciphertext, keyword)\n",
    "print(\"Decrypted Message:\", decrypted_message)"
   ]
  }
 ],
 "metadata": {
  "kernelspec": {
   "display_name": "cnsvirt",
   "language": "python",
   "name": "python3"
  },
  "language_info": {
   "codemirror_mode": {
    "name": "ipython",
    "version": 3
   },
   "file_extension": ".py",
   "mimetype": "text/x-python",
   "name": "python",
   "nbconvert_exporter": "python",
   "pygments_lexer": "ipython3",
   "version": "3.12.4"
  }
 },
 "nbformat": 4,
 "nbformat_minor": 4
}
